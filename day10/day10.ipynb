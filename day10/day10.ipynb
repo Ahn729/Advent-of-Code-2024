{
 "cells": [
  {
   "cell_type": "code",
   "id": "initial_id",
   "metadata": {
    "collapsed": true,
    "ExecuteTime": {
     "end_time": "2024-12-10T08:29:10.426007Z",
     "start_time": "2024-12-10T08:29:10.420993Z"
    }
   },
   "source": [
    "with open(\"input.txt\") as f:\n",
    "    lines = [line.strip() for line in f.readlines()]"
   ],
   "outputs": [],
   "execution_count": 62
  },
  {
   "metadata": {
    "ExecuteTime": {
     "end_time": "2024-12-10T08:29:10.830769Z",
     "start_time": "2024-12-10T08:29:10.823839Z"
    }
   },
   "cell_type": "code",
   "source": [
    "from typing import Any\n",
    "\n",
    "def add_border(grid: list[list[Any]], token: Any = \"0\"):\n",
    "    for line in grid:\n",
    "        line.insert(0, token)\n",
    "        line.append(token)\n",
    "    grid.insert(0, [token] * len(grid[0]))\n",
    "    grid.append([token] * len(grid[0]))\n",
    "\n",
    "grid = [[int(char) for char in line] for line in lines]\n",
    "add_border(grid, -1)"
   ],
   "id": "7b4429e91276ad9e",
   "outputs": [],
   "execution_count": 63
  },
  {
   "metadata": {
    "ExecuteTime": {
     "end_time": "2024-12-10T08:29:11.249504Z",
     "start_time": "2024-12-10T08:29:11.246127Z"
    }
   },
   "cell_type": "code",
   "source": [
    "import numpy as np\n",
    "heights = np.array(grid)"
   ],
   "id": "9cc5667e26d08703",
   "outputs": [],
   "execution_count": 64
  },
  {
   "metadata": {
    "ExecuteTime": {
     "end_time": "2024-12-10T08:29:11.675141Z",
     "start_time": "2024-12-10T08:29:11.671144Z"
    }
   },
   "cell_type": "code",
   "source": "starting_points = np.where(heights == 0)",
   "id": "acae5c30ee95f5ee",
   "outputs": [],
   "execution_count": 65
  },
  {
   "metadata": {},
   "cell_type": "markdown",
   "source": "### Part 1",
   "id": "9846b45e5d07d3f5"
  },
  {
   "metadata": {
    "ExecuteTime": {
     "end_time": "2024-12-10T08:29:12.192999Z",
     "start_time": "2024-12-10T08:29:12.172773Z"
    }
   },
   "cell_type": "code",
   "source": [
    "trailhead_scores = []\n",
    "\n",
    "for starting_x, starting_y in zip(*starting_points):\n",
    "    trail_ends = []\n",
    "    candidates = [(starting_x, starting_y)]\n",
    "    while candidates:\n",
    "        current_x, current_y = candidates.pop()\n",
    "        current_height = heights[current_x, current_y]\n",
    "        for adjacent in [(current_x + 1, current_y), (current_x, current_y + 1), (current_x - 1, current_y), (current_x, current_y - 1)]:\n",
    "            if heights[adjacent[0], adjacent[1]] == current_height + 1:\n",
    "                if current_height == 8:\n",
    "                    if adjacent not in trail_ends: # Count only once\n",
    "                        trail_ends.append(adjacent)\n",
    "                else:\n",
    "                    if adjacent not in candidates:\n",
    "                        # Of course, checking whether we've already been here would be more efficient in terms of runtime\n",
    "                        candidates.append(adjacent)\n",
    "    trailhead_scores.append(len(trail_ends))"
   ],
   "id": "7964cbc9cb196186",
   "outputs": [],
   "execution_count": 66
  },
  {
   "metadata": {
    "ExecuteTime": {
     "end_time": "2024-12-10T08:29:12.963823Z",
     "start_time": "2024-12-10T08:29:12.954592Z"
    }
   },
   "cell_type": "code",
   "source": "sum(trailhead_scores)",
   "id": "5dbf03b1907bb3eb",
   "outputs": [
    {
     "data": {
      "text/plain": [
       "611"
      ]
     },
     "execution_count": 67,
     "metadata": {},
     "output_type": "execute_result"
    }
   ],
   "execution_count": 67
  },
  {
   "metadata": {},
   "cell_type": "markdown",
   "source": "### Part 2 (Copy-Paste)",
   "id": "d30da85bda554097"
  },
  {
   "metadata": {
    "ExecuteTime": {
     "end_time": "2024-12-10T08:31:15.698015Z",
     "start_time": "2024-12-10T08:31:15.680983Z"
    }
   },
   "cell_type": "code",
   "source": [
    "trailhead_ratings = []\n",
    "\n",
    "for starting_x, starting_y in zip(*starting_points):\n",
    "    trail_ends = []\n",
    "    candidates = [(starting_x, starting_y)]\n",
    "    while candidates:\n",
    "        current_x, current_y = candidates.pop()\n",
    "        current_height = heights[current_x, current_y]\n",
    "        for adjacent in [(current_x + 1, current_y), (current_x, current_y + 1), (current_x - 1, current_y), (current_x, current_y - 1)]:\n",
    "            if heights[adjacent[0], adjacent[1]] == current_height + 1:\n",
    "                if current_height == 8:\n",
    "                    trail_ends.append(adjacent) # Count every single occurrence\n",
    "                else:\n",
    "                    candidates.append(adjacent)\n",
    "    trailhead_ratings.append(len(trail_ends))"
   ],
   "id": "ae50c153e71a11f8",
   "outputs": [],
   "execution_count": 68
  },
  {
   "metadata": {
    "ExecuteTime": {
     "end_time": "2024-12-10T08:31:22.270529Z",
     "start_time": "2024-12-10T08:31:22.264985Z"
    }
   },
   "cell_type": "code",
   "source": "sum(trailhead_ratings)",
   "id": "a3a7fdc1042c8e28",
   "outputs": [
    {
     "data": {
      "text/plain": [
       "1380"
      ]
     },
     "execution_count": 69,
     "metadata": {},
     "output_type": "execute_result"
    }
   ],
   "execution_count": 69
  },
  {
   "metadata": {},
   "cell_type": "code",
   "outputs": [],
   "execution_count": null,
   "source": "",
   "id": "1c6a0bc4dc8661d"
  }
 ],
 "metadata": {
  "kernelspec": {
   "display_name": "Python 3",
   "language": "python",
   "name": "python3"
  },
  "language_info": {
   "codemirror_mode": {
    "name": "ipython",
    "version": 2
   },
   "file_extension": ".py",
   "mimetype": "text/x-python",
   "name": "python",
   "nbconvert_exporter": "python",
   "pygments_lexer": "ipython2",
   "version": "2.7.6"
  }
 },
 "nbformat": 4,
 "nbformat_minor": 5
}
