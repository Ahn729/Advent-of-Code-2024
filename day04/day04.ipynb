{
 "cells": [
  {
   "metadata": {
    "collapsed": true,
    "ExecuteTime": {
     "end_time": "2024-12-05T07:37:16.069403Z",
     "start_time": "2024-12-05T07:37:16.062539Z"
    }
   },
   "cell_type": "code",
   "source": [
    "with open(\"input.txt\") as f:\n",
    "    lines = [line.strip() for line in f.readlines()]"
   ],
   "id": "initial_id",
   "outputs": [],
   "execution_count": 86
  },
  {
   "metadata": {
    "ExecuteTime": {
     "end_time": "2024-12-05T07:37:17.118389Z",
     "start_time": "2024-12-05T07:37:17.113390Z"
    }
   },
   "cell_type": "code",
   "source": "grid = [[char for char in line] for line in lines]",
   "id": "ad9ecf0696f958d9",
   "outputs": [],
   "execution_count": 87
  },
  {
   "metadata": {
    "ExecuteTime": {
     "end_time": "2024-12-05T07:37:17.761645Z",
     "start_time": "2024-12-05T07:37:17.755246Z"
    }
   },
   "cell_type": "code",
   "source": [
    "from typing import Any\n",
    "\n",
    "def add_border(grid: list[list[Any]], token: str = \"0\"):\n",
    "    for line in grid:\n",
    "        line.insert(0, token)\n",
    "        line.append(token)\n",
    "    grid.insert(0, [token] * len(grid[0]))\n",
    "    grid.append([token] * len(grid[0]))"
   ],
   "id": "c0937d7746658529",
   "outputs": [],
   "execution_count": 88
  },
  {
   "metadata": {
    "ExecuteTime": {
     "end_time": "2024-12-05T07:37:18.293652Z",
     "start_time": "2024-12-05T07:37:18.289388Z"
    }
   },
   "cell_type": "code",
   "source": [
    "add_border(grid)\n",
    "add_border(grid)\n",
    "add_border(grid)\n"
   ],
   "id": "4816cc33ab19fd92",
   "outputs": [],
   "execution_count": 89
  },
  {
   "metadata": {},
   "cell_type": "markdown",
   "source": "### Part 1",
   "id": "abd962243a8ce583"
  },
  {
   "metadata": {
    "ExecuteTime": {
     "end_time": "2024-12-05T07:37:19.523531Z",
     "start_time": "2024-12-05T07:37:19.519783Z"
    }
   },
   "cell_type": "code",
   "source": [
    "import itertools\n",
    "deltas = itertools.product([-1, 0, 1], repeat=2)"
   ],
   "id": "fe5d79cbc65de463",
   "outputs": [],
   "execution_count": 90
  },
  {
   "metadata": {
    "ExecuteTime": {
     "end_time": "2024-12-05T07:37:20.327816Z",
     "start_time": "2024-12-05T07:37:20.165593Z"
    }
   },
   "cell_type": "code",
   "source": [
    "total = 0\n",
    "for d_x, d_y in deltas:\n",
    "    for i in range(3, len(grid)-3):\n",
    "        for j in range(3, len(grid[0])-3):\n",
    "                text = \"\"\n",
    "                for r in range(4):\n",
    "                    text += grid[i+r*d_x][j+r*d_y]\n",
    "                if text == \"XMAS\":\n",
    "                    total += 1\n",
    "\n",
    "total"
   ],
   "id": "c629c43a1ee980a3",
   "outputs": [
    {
     "data": {
      "text/plain": [
       "2646"
      ]
     },
     "execution_count": 91,
     "metadata": {},
     "output_type": "execute_result"
    }
   ],
   "execution_count": 91
  },
  {
   "metadata": {},
   "cell_type": "markdown",
   "source": "### Part 2",
   "id": "b04e235bc68bcc70"
  },
  {
   "metadata": {
    "ExecuteTime": {
     "end_time": "2024-12-05T07:37:22.642489Z",
     "start_time": "2024-12-05T07:37:22.623071Z"
    }
   },
   "cell_type": "code",
   "source": [
    "total = 0\n",
    "for i in range(3, len(grid)-3):\n",
    "    for j in range(3, len(grid[0])-3):\n",
    "        diag_1 = grid[i-1][j-1] + grid[i][j] + grid[i+1][j+1]\n",
    "        diag_2 = grid[i-1][j+1] + grid[i][j] + grid[i+1][j-1]\n",
    "        if diag_1 in [\"MAS\", \"SAM\"] and diag_2 in [\"MAS\", \"SAM\"]:\n",
    "            total += 1\n",
    "\n",
    "total\n"
   ],
   "id": "cca094bdf7906836",
   "outputs": [
    {
     "data": {
      "text/plain": [
       "2000"
      ]
     },
     "execution_count": 92,
     "metadata": {},
     "output_type": "execute_result"
    }
   ],
   "execution_count": 92
  },
  {
   "metadata": {},
   "cell_type": "code",
   "outputs": [],
   "execution_count": null,
   "source": "",
   "id": "c9348dd2a32b4b34"
  }
 ],
 "metadata": {
  "kernelspec": {
   "display_name": "Python 3",
   "language": "python",
   "name": "python3"
  },
  "language_info": {
   "codemirror_mode": {
    "name": "ipython",
    "version": 2
   },
   "file_extension": ".py",
   "mimetype": "text/x-python",
   "name": "python",
   "nbconvert_exporter": "python",
   "pygments_lexer": "ipython2",
   "version": "2.7.6"
  }
 },
 "nbformat": 4,
 "nbformat_minor": 5
}
