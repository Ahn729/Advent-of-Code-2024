{
 "cells": [
  {
   "metadata": {
    "ExecuteTime": {
     "end_time": "2024-12-01T11:28:27.661126Z",
     "start_time": "2024-12-01T11:28:27.652335Z"
    }
   },
   "cell_type": "code",
   "source": [
    "with open(\"input.txt\") as f:\n",
    "    lines = [line.strip() for line in f.readlines()]"
   ],
   "id": "b95dfc3ada6a60cc",
   "outputs": [],
   "execution_count": 1
  },
  {
   "metadata": {
    "ExecuteTime": {
     "end_time": "2024-12-01T11:28:31.641689Z",
     "start_time": "2024-12-01T11:28:31.633301Z"
    }
   },
   "cell_type": "code",
   "source": [
    "locations_1 = [int(line.split()[0]) for line in lines]\n",
    "locations_2 = [int(line.split()[1]) for line in lines]"
   ],
   "id": "2d99596006d2e9d7",
   "outputs": [],
   "execution_count": 2
  },
  {
   "metadata": {},
   "cell_type": "markdown",
   "source": "### Part 1",
   "id": "d5c93e284c6bac63"
  },
  {
   "metadata": {
    "ExecuteTime": {
     "end_time": "2024-12-01T11:28:33.137800Z",
     "start_time": "2024-12-01T11:28:33.125044Z"
    }
   },
   "cell_type": "code",
   "source": [
    "dists = sum([abs(l_1 - l_2) for l_1, l_2 in zip(sorted(locations_1), sorted(locations_2))])\n",
    "dists"
   ],
   "id": "efc29426b8a25627",
   "outputs": [
    {
     "data": {
      "text/plain": [
       "936063"
      ]
     },
     "execution_count": 3,
     "metadata": {},
     "output_type": "execute_result"
    }
   ],
   "execution_count": 3
  },
  {
   "metadata": {},
   "cell_type": "markdown",
   "source": "### Part 2",
   "id": "d8f529d31930b5f3"
  },
  {
   "metadata": {
    "ExecuteTime": {
     "end_time": "2024-12-01T11:28:34.416459Z",
     "start_time": "2024-12-01T11:28:34.408713Z"
    }
   },
   "cell_type": "code",
   "source": [
    "from collections import Counter\n",
    "occurences = Counter(locations_2)"
   ],
   "id": "948a211e2f5320b9",
   "outputs": [],
   "execution_count": 4
  },
  {
   "metadata": {
    "ExecuteTime": {
     "end_time": "2024-12-01T11:28:36.714304Z",
     "start_time": "2024-12-01T11:28:36.705530Z"
    }
   },
   "cell_type": "code",
   "source": [
    "sim_score = sum([l_1 * occurences[l_1] for l_1 in locations_1])\n",
    "sim_score"
   ],
   "id": "a9fa007f39008938",
   "outputs": [
    {
     "data": {
      "text/plain": [
       "23150395"
      ]
     },
     "execution_count": 5,
     "metadata": {},
     "output_type": "execute_result"
    }
   ],
   "execution_count": 5
  },
  {
   "metadata": {},
   "cell_type": "code",
   "outputs": [],
   "execution_count": null,
   "source": "",
   "id": "228b5a458b44e4e5"
  }
 ],
 "metadata": {
  "kernelspec": {
   "name": "python3",
   "language": "python",
   "display_name": "Python 3 (ipykernel)"
  }
 },
 "nbformat": 5,
 "nbformat_minor": 9
}
