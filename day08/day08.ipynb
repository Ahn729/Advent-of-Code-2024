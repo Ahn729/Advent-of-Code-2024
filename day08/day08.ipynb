{
 "cells": [
  {
   "cell_type": "code",
   "id": "initial_id",
   "metadata": {
    "collapsed": true,
    "ExecuteTime": {
     "end_time": "2024-12-08T19:56:46.302784Z",
     "start_time": "2024-12-08T19:56:46.296120Z"
    }
   },
   "source": [
    "with open(\"input.txt\") as f:\n",
    "    lines = [line.strip() for line in f.readlines()]"
   ],
   "outputs": [],
   "execution_count": 64
  },
  {
   "metadata": {
    "ExecuteTime": {
     "end_time": "2024-12-08T19:56:47.077647Z",
     "start_time": "2024-12-08T19:56:47.073369Z"
    }
   },
   "cell_type": "code",
   "source": "import numpy as np",
   "id": "a23979c034c135b3",
   "outputs": [],
   "execution_count": 65
  },
  {
   "metadata": {
    "ExecuteTime": {
     "end_time": "2024-12-08T19:56:51.046685Z",
     "start_time": "2024-12-08T19:56:51.039337Z"
    }
   },
   "cell_type": "code",
   "source": "grid = np.array([[char for char in line] for line in lines])",
   "id": "b1166cd30e149ddd",
   "outputs": [],
   "execution_count": 66
  },
  {
   "metadata": {
    "ExecuteTime": {
     "end_time": "2024-12-08T19:56:59.613375Z",
     "start_time": "2024-12-08T19:56:59.605372Z"
    }
   },
   "cell_type": "code",
   "source": "unique_frequencies = [str(freq) for freq in np.unique(grid) if freq != \".\"]",
   "id": "78c3a07a55c2c2ec",
   "outputs": [],
   "execution_count": 68
  },
  {
   "metadata": {
    "ExecuteTime": {
     "end_time": "2024-12-08T19:57:05.933166Z",
     "start_time": "2024-12-08T19:57:05.925166Z"
    }
   },
   "cell_type": "code",
   "source": [
    "frequency_locations = {\n",
    "    freq: np.where(grid == freq) for freq in unique_frequencies\n",
    "}"
   ],
   "id": "752fd1e8489231d2",
   "outputs": [],
   "execution_count": 70
  },
  {
   "metadata": {},
   "cell_type": "markdown",
   "source": "### Part 1",
   "id": "92e9d220f8f3d569"
  },
  {
   "metadata": {
    "ExecuteTime": {
     "end_time": "2024-12-08T19:57:52.590286Z",
     "start_time": "2024-12-08T19:57:52.585079Z"
    }
   },
   "cell_type": "code",
   "source": "antinodes = np.zeros_like(grid, dtype=bool)",
   "id": "3706e3f2cd5d583e",
   "outputs": [],
   "execution_count": 75
  },
  {
   "metadata": {
    "ExecuteTime": {
     "end_time": "2024-12-08T19:57:53.162927Z",
     "start_time": "2024-12-08T19:57:53.147350Z"
    }
   },
   "cell_type": "code",
   "source": [
    "import itertools\n",
    "\n",
    "for x_s, y_s in frequency_locations.values():\n",
    "    antenna_locations = [np.array([x, y]) for x, y in zip(x_s, y_s)]\n",
    "    for antenna_1, antenna_2 in itertools.combinations(antenna_locations, 2):\n",
    "        antinode_1 = antenna_1 - (antenna_2 - antenna_1)\n",
    "        antinode_2 = antenna_2 + (antenna_2 - antenna_1)\n",
    "        if (antinode_1 >= 0).all() and (antinode_1 < antinodes.shape).all():\n",
    "            antinodes[*antinode_1] = True\n",
    "        if (antinode_2 >= 0).all() and (antinode_2 < antinodes.shape).all():\n",
    "            antinodes[*antinode_2] = True"
   ],
   "id": "f3ead034990e093e",
   "outputs": [],
   "execution_count": 76
  },
  {
   "metadata": {
    "ExecuteTime": {
     "end_time": "2024-12-08T19:57:54.087105Z",
     "start_time": "2024-12-08T19:57:54.080716Z"
    }
   },
   "cell_type": "code",
   "source": "antinodes.sum()",
   "id": "f12cfa48626e4b61",
   "outputs": [
    {
     "data": {
      "text/plain": [
       "np.int64(336)"
      ]
     },
     "execution_count": 77,
     "metadata": {},
     "output_type": "execute_result"
    }
   ],
   "execution_count": 77
  },
  {
   "metadata": {},
   "cell_type": "markdown",
   "source": "### Part 2",
   "id": "104add7df45328dd"
  },
  {
   "metadata": {
    "ExecuteTime": {
     "end_time": "2024-12-08T20:02:52.245441Z",
     "start_time": "2024-12-08T20:02:52.238339Z"
    }
   },
   "cell_type": "code",
   "source": "antinodes = np.zeros_like(grid, dtype=bool)",
   "id": "c3a58c563836240a",
   "outputs": [],
   "execution_count": 80
  },
  {
   "metadata": {
    "ExecuteTime": {
     "end_time": "2024-12-08T20:02:52.856626Z",
     "start_time": "2024-12-08T20:02:52.814623Z"
    }
   },
   "cell_type": "code",
   "source": [
    "import itertools\n",
    "\n",
    "for x_s, y_s in frequency_locations.values():\n",
    "    antenna_locations = [np.array([x, y]) for x, y in zip(x_s, y_s)]\n",
    "    for antenna_1, antenna_2 in itertools.combinations(antenna_locations, 2):\n",
    "        distance = (antenna_2 - antenna_1)\n",
    "        i = 0\n",
    "        while True:\n",
    "            new_antinode = antenna_2 + i*distance\n",
    "            if (new_antinode >= 0).all() and (new_antinode < antinodes.shape).all():\n",
    "                antinodes[*new_antinode] = True\n",
    "                i += 1\n",
    "            else:\n",
    "                break\n",
    "        i = 0\n",
    "        while True:\n",
    "            new_antinode = antenna_1 - i*distance\n",
    "            if (new_antinode >= 0).all() and (new_antinode < antinodes.shape).all():\n",
    "                antinodes[*new_antinode] = True\n",
    "                i += 1\n",
    "            else:\n",
    "                break"
   ],
   "id": "ffb099b0812a8ff",
   "outputs": [],
   "execution_count": 81
  },
  {
   "metadata": {
    "ExecuteTime": {
     "end_time": "2024-12-08T20:02:56.963084Z",
     "start_time": "2024-12-08T20:02:56.951084Z"
    }
   },
   "cell_type": "code",
   "source": "antinodes.sum()",
   "id": "8018e27cd9aaa7e5",
   "outputs": [
    {
     "data": {
      "text/plain": [
       "np.int64(1131)"
      ]
     },
     "execution_count": 82,
     "metadata": {},
     "output_type": "execute_result"
    }
   ],
   "execution_count": 82
  },
  {
   "metadata": {},
   "cell_type": "code",
   "outputs": [],
   "execution_count": null,
   "source": "",
   "id": "cf5c65ff88b65761"
  }
 ],
 "metadata": {
  "kernelspec": {
   "display_name": "Python 3",
   "language": "python",
   "name": "python3"
  },
  "language_info": {
   "codemirror_mode": {
    "name": "ipython",
    "version": 2
   },
   "file_extension": ".py",
   "mimetype": "text/x-python",
   "name": "python",
   "nbconvert_exporter": "python",
   "pygments_lexer": "ipython2",
   "version": "2.7.6"
  }
 },
 "nbformat": 4,
 "nbformat_minor": 5
}
