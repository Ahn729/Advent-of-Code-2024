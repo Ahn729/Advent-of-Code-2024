{
 "cells": [
  {
   "cell_type": "code",
   "id": "initial_id",
   "metadata": {
    "collapsed": true,
    "ExecuteTime": {
     "end_time": "2024-12-05T19:16:57.503342Z",
     "start_time": "2024-12-05T19:16:57.493724Z"
    }
   },
   "source": [
    "from typing import Iterable\n",
    "\n",
    "with open(\"input.txt\") as f:\n",
    "    lines = [line.strip() for line in f.readlines()]"
   ],
   "outputs": [],
   "execution_count": 82
  },
  {
   "metadata": {
    "ExecuteTime": {
     "end_time": "2024-12-05T19:16:58.119334Z",
     "start_time": "2024-12-05T19:16:58.102656Z"
    }
   },
   "cell_type": "code",
   "source": [
    "class OrderingRule:\n",
    "    def __init__(self, rule: str):\n",
    "        self.before, self.after = map(int, rule.split('|'))\n",
    "\n",
    "    def __str__(self):\n",
    "        return f\"{self.before}|{self.after}\"\n",
    "\n",
    "    def __repr__(self):\n",
    "        return f\"{self.before}|{self.after}\"\n",
    "\n",
    "class Update:\n",
    "    def __init__(self, update: str):\n",
    "        self.updates = [int(i) for i in update.split(',')]\n",
    "\n",
    "    def __str__(self):\n",
    "        return str(self.updates)\n",
    "\n",
    "    def __repr__(self):\n",
    "        return str(self)\n",
    "\n",
    "    def value(self) -> int:\n",
    "        return self.updates[len(self.updates) // 2]\n",
    "\n",
    "    def has_right_order_for_rule(self, rule: OrderingRule) -> bool:\n",
    "        before, after = rule.before, rule.after\n",
    "        if before in self.updates and after in self.updates:\n",
    "            return self.updates.index(before) < self.updates.index(after)\n",
    "        return True\n",
    "\n",
    "    def has_right_order_for_rules(self, rules: Iterable[OrderingRule]) -> bool:\n",
    "        for rule in rules:\n",
    "            if not self.has_right_order_for_rule(rule):\n",
    "                return False\n",
    "        return True\n",
    "\n",
    "    def order_for_rules(self, rules: Iterable[OrderingRule]) -> list[int]:\n",
    "        to_order = self.updates.copy()\n",
    "        ordered = []\n",
    "\n",
    "        relevant_rules = [rule for rule in rules if rule.after in to_order and rule.before in to_order]\n",
    "\n",
    "        while to_order:\n",
    "            for candidate in to_order:\n",
    "                for rule in relevant_rules:\n",
    "                    if candidate == rule.after:\n",
    "                        break\n",
    "                else:\n",
    "                    to_order.remove(candidate)\n",
    "                    ordered.append(candidate)\n",
    "                    relevant_rules = [rule for rule in relevant_rules if rule.before != candidate]\n",
    "\n",
    "        return ordered\n",
    "\n",
    "\n",
    "    def ordered_value_for_rules(self, rules: Iterable[OrderingRule]) -> int:\n",
    "        ordered = self.order_for_rules(rules)\n",
    "        return ordered[len(ordered) // 2]\n",
    "\n"
   ],
   "id": "4aca6b613ab0803e",
   "outputs": [],
   "execution_count": 83
  },
  {
   "metadata": {
    "ExecuteTime": {
     "end_time": "2024-12-05T19:16:58.792958Z",
     "start_time": "2024-12-05T19:16:58.785091Z"
    }
   },
   "cell_type": "code",
   "source": "rules, updates = [], []",
   "id": "12f99d1566d84aaa",
   "outputs": [],
   "execution_count": 84
  },
  {
   "metadata": {
    "ExecuteTime": {
     "end_time": "2024-12-05T19:16:59.434614Z",
     "start_time": "2024-12-05T19:16:59.420662Z"
    }
   },
   "cell_type": "code",
   "source": [
    "for line in lines:\n",
    "    if \"|\" in line:\n",
    "        rules.append(OrderingRule(line))\n",
    "    elif \",\" in line:\n",
    "        updates.append(Update(line))"
   ],
   "id": "8982301cce6fd49d",
   "outputs": [],
   "execution_count": 85
  },
  {
   "metadata": {},
   "cell_type": "markdown",
   "source": "### Part 1",
   "id": "4f3ff2bb313025e7"
  },
  {
   "metadata": {
    "ExecuteTime": {
     "end_time": "2024-12-05T19:17:02.649756Z",
     "start_time": "2024-12-05T19:17:02.497668Z"
    }
   },
   "cell_type": "code",
   "source": [
    "value = 0\n",
    "\n",
    "for update in updates:\n",
    "    if update.has_right_order_for_rules(rules):\n",
    "        value += update.value()\n",
    "\n",
    "value"
   ],
   "id": "b6cc9117452e5f54",
   "outputs": [
    {
     "data": {
      "text/plain": [
       "5948"
      ]
     },
     "execution_count": 86,
     "metadata": {},
     "output_type": "execute_result"
    }
   ],
   "execution_count": 86
  },
  {
   "metadata": {},
   "cell_type": "markdown",
   "source": "### Part 2",
   "id": "441caf5d92476f31"
  },
  {
   "metadata": {
    "ExecuteTime": {
     "end_time": "2024-12-05T19:17:04.865444Z",
     "start_time": "2024-12-05T19:17:04.507373Z"
    }
   },
   "cell_type": "code",
   "source": [
    "value = 0\n",
    "\n",
    "for update in updates:\n",
    "    if not update.has_right_order_for_rules(rules):\n",
    "        value += update.ordered_value_for_rules(rules)\n",
    "\n",
    "value\n"
   ],
   "id": "36c721dc79c51882",
   "outputs": [
    {
     "data": {
      "text/plain": [
       "3062"
      ]
     },
     "execution_count": 87,
     "metadata": {},
     "output_type": "execute_result"
    }
   ],
   "execution_count": 87
  },
  {
   "metadata": {},
   "cell_type": "code",
   "outputs": [],
   "execution_count": null,
   "source": "",
   "id": "5c37b11fcc9deef"
  }
 ],
 "metadata": {
  "kernelspec": {
   "display_name": "Python 3",
   "language": "python",
   "name": "python3"
  },
  "language_info": {
   "codemirror_mode": {
    "name": "ipython",
    "version": 2
   },
   "file_extension": ".py",
   "mimetype": "text/x-python",
   "name": "python",
   "nbconvert_exporter": "python",
   "pygments_lexer": "ipython2",
   "version": "2.7.6"
  }
 },
 "nbformat": 4,
 "nbformat_minor": 5
}
