{
 "cells": [
  {
   "cell_type": "code",
   "id": "initial_id",
   "metadata": {
    "collapsed": true,
    "ExecuteTime": {
     "end_time": "2024-12-09T12:33:17.846200Z",
     "start_time": "2024-12-09T12:33:17.840998Z"
    }
   },
   "source": [
    "with open(\"input.txt\") as f:\n",
    "    lines = [line.strip() for line in f.readlines()]"
   ],
   "outputs": [],
   "execution_count": 80
  },
  {
   "metadata": {
    "ExecuteTime": {
     "end_time": "2024-12-09T12:33:18.418001Z",
     "start_time": "2024-12-09T12:33:18.412211Z"
    }
   },
   "cell_type": "code",
   "source": "disk_map = lines[0]",
   "id": "f821d708d7872275",
   "outputs": [],
   "execution_count": 81
  },
  {
   "metadata": {
    "ExecuteTime": {
     "end_time": "2024-12-09T12:33:19.079145Z",
     "start_time": "2024-12-09T12:33:19.070014Z"
    }
   },
   "cell_type": "code",
   "source": [
    "class File:\n",
    "    def __init__(self, id: int, location: list[int]):\n",
    "        self.id = id\n",
    "        self.location = location\n",
    "\n",
    "    @property\n",
    "    def size(self) -> int:\n",
    "        return len(self.location)\n",
    "\n",
    "    def checksum(self) -> int:\n",
    "        return self.id * sum(self.location)\n",
    "\n",
    "    def __repr__(self):\n",
    "        return f\"{self.id}: {self.location}\""
   ],
   "id": "5af6d21b6bb761be",
   "outputs": [],
   "execution_count": 82
  },
  {
   "metadata": {},
   "cell_type": "markdown",
   "source": "### Part 1",
   "id": "ddf9e0a609cfc53e"
  },
  {
   "metadata": {
    "ExecuteTime": {
     "end_time": "2024-12-09T12:33:20.790311Z",
     "start_time": "2024-12-09T12:33:20.740031Z"
    }
   },
   "cell_type": "code",
   "source": [
    "files = []\n",
    "free_spaces = []\n",
    "\n",
    "current_location = 0\n",
    "\n",
    "for i in range(len(disk_map) // 2):\n",
    "    file_size, free_space = int(disk_map[2*i]), int(disk_map[2*i+1])\n",
    "    files.append(\n",
    "        File(id=i, location=list(range(current_location, current_location + file_size)))\n",
    "    )\n",
    "    current_location = current_location + file_size\n",
    "    free_spaces.extend(list(range(current_location, current_location + free_space)))\n",
    "    current_location = current_location + free_space\n",
    "# Last file:\n",
    "file_size = int(disk_map[-1])\n",
    "files.append(\n",
    "    File(id=len(disk_map) // 2, location=list(range(current_location, current_location + file_size)))\n",
    ")"
   ],
   "id": "6b0d14fbfcbb0052",
   "outputs": [],
   "execution_count": 83
  },
  {
   "metadata": {
    "ExecuteTime": {
     "end_time": "2024-12-09T12:33:21.896939Z",
     "start_time": "2024-12-09T12:33:21.425217Z"
    }
   },
   "cell_type": "code",
   "source": [
    "done = False\n",
    "\n",
    "for file in reversed(files):\n",
    "    new_file_loc = []\n",
    "    if free_spaces:\n",
    "        for free_space, file_loc in zip(free_spaces, reversed(file.location)):\n",
    "            if free_space <= file_loc:\n",
    "                new_file_loc.append(free_space)\n",
    "            else:\n",
    "                new_file_loc.append(file_loc)\n",
    "                done = True\n",
    "        file.location = new_file_loc\n",
    "        if len(free_spaces) >= file.size:\n",
    "            free_spaces = free_spaces[file.size:]\n",
    "        else:\n",
    "            free_spaces = []\n",
    "    else:\n",
    "        done = True\n",
    "    if done:\n",
    "        break\n"
   ],
   "id": "1cf65c40b6a5b9d9",
   "outputs": [],
   "execution_count": 84
  },
  {
   "metadata": {
    "ExecuteTime": {
     "end_time": "2024-12-09T12:33:23.735527Z",
     "start_time": "2024-12-09T12:33:23.718234Z"
    }
   },
   "cell_type": "code",
   "source": "sum([file.checksum() for file in files])",
   "id": "95015da47971bb3e",
   "outputs": [
    {
     "data": {
      "text/plain": [
       "6283170117911"
      ]
     },
     "execution_count": 85,
     "metadata": {},
     "output_type": "execute_result"
    }
   ],
   "execution_count": 85
  },
  {
   "metadata": {},
   "cell_type": "markdown",
   "source": "### Part 2",
   "id": "4956ad9a1f8d4d78"
  },
  {
   "metadata": {
    "ExecuteTime": {
     "end_time": "2024-12-09T12:33:25.717839Z",
     "start_time": "2024-12-09T12:33:25.598538Z"
    }
   },
   "cell_type": "code",
   "source": [
    "files = []\n",
    "free_spaces = {i: [] for i in range(10)}\n",
    "\n",
    "current_location = 0\n",
    "\n",
    "for i in range(len(disk_map) // 2):\n",
    "    file_size, free_space = int(disk_map[2*i]), int(disk_map[2*i+1])\n",
    "    files.append(\n",
    "        File(id=i, location=list(range(current_location, current_location + file_size)))\n",
    "    )\n",
    "    current_location = current_location + file_size\n",
    "    free_spaces[free_space].append(current_location)\n",
    "    current_location = current_location + free_space\n",
    "# Last file:\n",
    "file_size = int(disk_map[-1])\n",
    "files.append(\n",
    "    File(id=len(disk_map) // 2, location=list(range(current_location, current_location + file_size)))\n",
    ")"
   ],
   "id": "d337d88e5d8a47e4",
   "outputs": [],
   "execution_count": 86
  },
  {
   "metadata": {
    "ExecuteTime": {
     "end_time": "2024-12-09T12:33:27.386418Z",
     "start_time": "2024-12-09T12:33:27.301569Z"
    }
   },
   "cell_type": "code",
   "source": [
    "for file in reversed(files):\n",
    "    possible_new_locations = []\n",
    "    for i in range(file.size, 10):\n",
    "        if free_spaces[i]:\n",
    "            possible_new_locations.append((i, free_spaces[i][0]))\n",
    "    if possible_new_locations:\n",
    "        new_location = min(possible_new_locations, key = lambda x: x[1])\n",
    "        if new_location[1] < file.location[0]:\n",
    "            prev_free_space, loc_index = new_location\n",
    "            file.location = list(range(loc_index, loc_index + file.size))\n",
    "            if prev_free_space > file.size:\n",
    "                free_spaces[prev_free_space - file.size].append(loc_index + file.size)\n",
    "                free_spaces[prev_free_space - file.size] = sorted(free_spaces[prev_free_space - file.size])\n",
    "            free_spaces[prev_free_space].remove(loc_index)"
   ],
   "id": "db223fcd4cf2e457",
   "outputs": [],
   "execution_count": 87
  },
  {
   "metadata": {
    "ExecuteTime": {
     "end_time": "2024-12-09T12:33:28.441940Z",
     "start_time": "2024-12-09T12:33:28.426004Z"
    }
   },
   "cell_type": "code",
   "source": "sum([file.checksum() for file in files])",
   "id": "bd88721a81cc8de6",
   "outputs": [
    {
     "data": {
      "text/plain": [
       "6307653242596"
      ]
     },
     "execution_count": 88,
     "metadata": {},
     "output_type": "execute_result"
    }
   ],
   "execution_count": 88
  },
  {
   "metadata": {},
   "cell_type": "code",
   "outputs": [],
   "execution_count": null,
   "source": "",
   "id": "e518c00da50f4d8d"
  }
 ],
 "metadata": {
  "kernelspec": {
   "display_name": "Python 3",
   "language": "python",
   "name": "python3"
  },
  "language_info": {
   "codemirror_mode": {
    "name": "ipython",
    "version": 2
   },
   "file_extension": ".py",
   "mimetype": "text/x-python",
   "name": "python",
   "nbconvert_exporter": "python",
   "pygments_lexer": "ipython2",
   "version": "2.7.6"
  }
 },
 "nbformat": 4,
 "nbformat_minor": 5
}
