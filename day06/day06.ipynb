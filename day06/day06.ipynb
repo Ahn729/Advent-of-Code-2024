{
 "cells": [
  {
   "cell_type": "code",
   "id": "initial_id",
   "metadata": {
    "collapsed": true,
    "ExecuteTime": {
     "end_time": "2024-12-06T12:16:05.897559Z",
     "start_time": "2024-12-06T12:16:05.893256Z"
    }
   },
   "source": [
    "with open(\"input.txt\") as f:\n",
    "    lines = [line.strip() for line in f.readlines()]"
   ],
   "outputs": [],
   "execution_count": 149
  },
  {
   "metadata": {
    "ExecuteTime": {
     "end_time": "2024-12-06T12:16:06.349507Z",
     "start_time": "2024-12-06T12:16:06.341167Z"
    }
   },
   "cell_type": "code",
   "source": [
    "import numpy as np\n",
    "\n",
    "grid = np.array([[char for char in line] for line in lines])"
   ],
   "id": "781b37e746fb7e24",
   "outputs": [],
   "execution_count": 150
  },
  {
   "metadata": {
    "ExecuteTime": {
     "end_time": "2024-12-06T12:16:06.631280Z",
     "start_time": "2024-12-06T12:16:06.626539Z"
    }
   },
   "cell_type": "code",
   "source": "visited = np.zeros_like(grid, dtype=bool)",
   "id": "2ce4d7e3e902a70",
   "outputs": [],
   "execution_count": 151
  },
  {
   "metadata": {
    "ExecuteTime": {
     "end_time": "2024-12-06T12:16:06.933823Z",
     "start_time": "2024-12-06T12:16:06.928285Z"
    }
   },
   "cell_type": "code",
   "source": [
    "from itertools import cycle\n",
    "\n",
    "initial_guard_pos = np.array(list(map(lambda x: x[0], np.where(grid == \"^\"))))\n",
    "guard_facing_cycle = cycle([np.array([-1, 0]), np.array([0, 1]), np.array([1, 0]), np.array([0, -1])])\n",
    "initial_guard_facing = next(guard_facing_cycle)\n"
   ],
   "id": "48abebe5ff9100cc",
   "outputs": [],
   "execution_count": 152
  },
  {
   "metadata": {},
   "cell_type": "markdown",
   "source": "### Part 1",
   "id": "718c6cf0385fa9ec"
  },
  {
   "metadata": {
    "ExecuteTime": {
     "end_time": "2024-12-06T12:16:08.029114Z",
     "start_time": "2024-12-06T12:16:07.949607Z"
    }
   },
   "cell_type": "code",
   "source": [
    "guard_pos = initial_guard_pos\n",
    "guard_facing_cycle = cycle([np.array([-1, 0]), np.array([0, 1]), np.array([1, 0]), np.array([0, -1])])\n",
    "guard_facing = initial_guard_facing\n",
    "visited[*guard_pos] = True\n",
    "\n",
    "while True:\n",
    "    # Move guard\n",
    "    next_guard_pos = guard_pos + guard_facing\n",
    "    if (next_guard_pos < 0).any() or (next_guard_pos >= grid.shape).any():\n",
    "        break\n",
    "    if grid[*next_guard_pos] != \"#\":\n",
    "        guard_pos = next_guard_pos\n",
    "        visited[*next_guard_pos] = True\n",
    "    else:\n",
    "        guard_facing = next(guard_facing_cycle)"
   ],
   "id": "d38d88537ff41f4c",
   "outputs": [],
   "execution_count": 153
  },
  {
   "metadata": {
    "ExecuteTime": {
     "end_time": "2024-12-06T12:16:08.047774Z",
     "start_time": "2024-12-06T12:16:08.042120Z"
    }
   },
   "cell_type": "code",
   "source": "visited.sum()",
   "id": "106e187b66e1215c",
   "outputs": [
    {
     "data": {
      "text/plain": [
       "np.int64(5461)"
      ]
     },
     "execution_count": 154,
     "metadata": {},
     "output_type": "execute_result"
    }
   ],
   "execution_count": 154
  },
  {
   "metadata": {},
   "cell_type": "markdown",
   "source": "### Part 2",
   "id": "4819f80d37949665"
  },
  {
   "metadata": {
    "ExecuteTime": {
     "end_time": "2024-12-06T12:34:00.148977Z",
     "start_time": "2024-12-06T12:16:08.886020Z"
    }
   },
   "cell_type": "code",
   "source": [
    "try:\n",
    "    from tqdm import tqdm\n",
    "except ImportError:\n",
    "    tqdm = lambda x: x\n",
    "\n",
    "total_loops = []\n",
    "\n",
    "for i in tqdm(range(grid.shape[0])):\n",
    "    for j in range(grid.shape[1]):\n",
    "        guard_pos = initial_guard_pos\n",
    "        guard_facing_cycle = cycle([np.array([-1, 0]), np.array([0, 1]), np.array([1, 0]), np.array([0, -1])])\n",
    "        guard_facing = initial_guard_facing\n",
    "        if grid[i, j] != \".\" or not visited[i, j]:\n",
    "            continue\n",
    "        # Put an object there:\n",
    "        grid[i, j] = \"#\"\n",
    "        # Remember all places we have been with direction\n",
    "        history = [(*guard_pos, *guard_facing)]\n",
    "        while True:\n",
    "            # Move guard\n",
    "            next_guard_pos = guard_pos + guard_facing\n",
    "            if (next_guard_pos < 0).any() or (next_guard_pos >= grid.shape).any():\n",
    "                break # Reached end of grid -> no loop\n",
    "            if (*next_guard_pos, *guard_facing) in history:\n",
    "                total_loops.append((i, j)) # Found a loop\n",
    "                break\n",
    "            if grid[*next_guard_pos] != \"#\":\n",
    "                # Move\n",
    "                guard_pos = next_guard_pos\n",
    "            else:\n",
    "                # Turn 90 degrees\n",
    "                guard_facing = next(guard_facing_cycle)\n",
    "            history.append((*guard_pos, *guard_facing))\n",
    "        grid[i, j] = \".\""
   ],
   "id": "80c1104b0217ff9b",
   "outputs": [
    {
     "name": "stderr",
     "output_type": "stream",
     "text": [
      "100%|██████████| 130/130 [17:51<00:00,  8.24s/it]\n"
     ]
    }
   ],
   "execution_count": 155
  },
  {
   "metadata": {
    "ExecuteTime": {
     "end_time": "2024-12-06T12:43:27.373160Z",
     "start_time": "2024-12-06T12:43:27.366075Z"
    }
   },
   "cell_type": "code",
   "source": "len(total_loops)",
   "id": "603c47ba4aa3c25c",
   "outputs": [
    {
     "data": {
      "text/plain": [
       "1836"
      ]
     },
     "execution_count": 156,
     "metadata": {},
     "output_type": "execute_result"
    }
   ],
   "execution_count": 156
  },
  {
   "metadata": {},
   "cell_type": "code",
   "outputs": [],
   "execution_count": null,
   "source": "",
   "id": "e23de3586e445fa8"
  }
 ],
 "metadata": {
  "kernelspec": {
   "display_name": "Python 3",
   "language": "python",
   "name": "python3"
  },
  "language_info": {
   "codemirror_mode": {
    "name": "ipython",
    "version": 2
   },
   "file_extension": ".py",
   "mimetype": "text/x-python",
   "name": "python",
   "nbconvert_exporter": "python",
   "pygments_lexer": "ipython2",
   "version": "2.7.6"
  }
 },
 "nbformat": 4,
 "nbformat_minor": 5
}
