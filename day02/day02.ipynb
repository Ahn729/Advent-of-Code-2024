{
 "cells": [
  {
   "cell_type": "code",
   "id": "initial_id",
   "metadata": {
    "collapsed": true,
    "ExecuteTime": {
     "end_time": "2024-12-04T12:02:25.125661Z",
     "start_time": "2024-12-04T12:02:25.116200Z"
    }
   },
   "source": [
    "with open(\"input.txt\") as f:\n",
    "    lines = [line.strip() for line in f.readlines()]"
   ],
   "outputs": [],
   "execution_count": 1
  },
  {
   "metadata": {
    "ExecuteTime": {
     "end_time": "2024-12-04T12:15:47.102031Z",
     "start_time": "2024-12-04T12:15:47.095714Z"
    }
   },
   "cell_type": "code",
   "source": [
    "class Record:\n",
    "    def __init__(self, line):\n",
    "        if isinstance(line, str):\n",
    "            self.levels = [int(d) for d in line.split()]\n",
    "        else:\n",
    "            self.levels = line\n",
    "\n",
    "    def is_safe(self) -> bool:\n",
    "        if self.levels[0] > self.levels[1]:\n",
    "            decreasing = True\n",
    "        elif self.levels[0] < self.levels[1]:\n",
    "            decreasing = False\n",
    "        else:\n",
    "            return False\n",
    "\n",
    "        for i in range(len(self.levels) - 1):\n",
    "            left, right = self.levels[i], self.levels[i + 1]\n",
    "            if decreasing and left <= right or not decreasing and left >= right:\n",
    "                return False\n",
    "            if abs(left - right) > 3:\n",
    "                return False\n",
    "        return True\n",
    "\n",
    "class DampableRecord(Record):\n",
    "    def __init__(self, line):\n",
    "        Record.__init__(self, line)\n",
    "\n",
    "    def is_safe(self) -> bool:\n",
    "        for i in range(len(self.levels)):\n",
    "            levels = self.levels.copy()\n",
    "            levels.pop(i)\n",
    "            if Record(levels).is_safe():\n",
    "                return True\n",
    "        return False\n",
    "\n",
    "\n",
    "\n"
   ],
   "id": "617360fc0cef309d",
   "outputs": [],
   "execution_count": 14
  },
  {
   "metadata": {
    "ExecuteTime": {
     "end_time": "2024-12-04T12:15:48.119514Z",
     "start_time": "2024-12-04T12:15:48.112050Z"
    }
   },
   "cell_type": "code",
   "source": "sum([Record(line).is_safe() for line in lines])",
   "id": "96d098d09f0962ca",
   "outputs": [
    {
     "data": {
      "text/plain": [
       "332"
      ]
     },
     "execution_count": 15,
     "metadata": {},
     "output_type": "execute_result"
    }
   ],
   "execution_count": 15
  },
  {
   "metadata": {
    "ExecuteTime": {
     "end_time": "2024-12-04T12:15:49.157449Z",
     "start_time": "2024-12-04T12:15:49.145534Z"
    }
   },
   "cell_type": "code",
   "source": "sum([DampableRecord(line).is_safe() for line in lines])",
   "id": "4b5fce13bcd12c66",
   "outputs": [
    {
     "data": {
      "text/plain": [
       "398"
      ]
     },
     "execution_count": 16,
     "metadata": {},
     "output_type": "execute_result"
    }
   ],
   "execution_count": 16
  },
  {
   "metadata": {
    "ExecuteTime": {
     "end_time": "2024-12-04T12:14:57.493979Z",
     "start_time": "2024-12-04T12:14:57.489498Z"
    }
   },
   "cell_type": "code",
   "source": [
    "l = [1, 2, 1]\n",
    "l.index(1)"
   ],
   "id": "3a11cfddcc23ff87",
   "outputs": [
    {
     "data": {
      "text/plain": [
       "0"
      ]
     },
     "execution_count": 13,
     "metadata": {},
     "output_type": "execute_result"
    }
   ],
   "execution_count": 13
  },
  {
   "metadata": {},
   "cell_type": "code",
   "outputs": [],
   "execution_count": null,
   "source": "",
   "id": "e5d9e4a7609d8807"
  }
 ],
 "metadata": {
  "kernelspec": {
   "display_name": "Python 3",
   "language": "python",
   "name": "python3"
  },
  "language_info": {
   "codemirror_mode": {
    "name": "ipython",
    "version": 2
   },
   "file_extension": ".py",
   "mimetype": "text/x-python",
   "name": "python",
   "nbconvert_exporter": "python",
   "pygments_lexer": "ipython2",
   "version": "2.7.6"
  }
 },
 "nbformat": 4,
 "nbformat_minor": 5
}
