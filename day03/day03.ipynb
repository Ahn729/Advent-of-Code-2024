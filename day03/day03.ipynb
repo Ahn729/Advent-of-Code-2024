{
 "cells": [
  {
   "cell_type": "code",
   "id": "initial_id",
   "metadata": {
    "collapsed": true,
    "ExecuteTime": {
     "end_time": "2024-12-04T12:20:08.677926Z",
     "start_time": "2024-12-04T12:20:08.670989Z"
    }
   },
   "source": [
    "with open(\"input.txt\") as f:\n",
    "    lines = [line.strip() for line in f.readlines()]"
   ],
   "outputs": [],
   "execution_count": 1
  },
  {
   "metadata": {
    "ExecuteTime": {
     "end_time": "2024-12-04T12:49:48.936241Z",
     "start_time": "2024-12-04T12:49:48.930271Z"
    }
   },
   "cell_type": "code",
   "source": "len(lines)",
   "id": "c533a34ce38c99ed",
   "outputs": [
    {
     "data": {
      "text/plain": [
       "6"
      ]
     },
     "execution_count": 80,
     "metadata": {},
     "output_type": "execute_result"
    }
   ],
   "execution_count": 80
  },
  {
   "metadata": {
    "ExecuteTime": {
     "end_time": "2024-12-04T12:49:50.574144Z",
     "start_time": "2024-12-04T12:49:50.570504Z"
    }
   },
   "cell_type": "code",
   "source": "line = \"\".join(lines)",
   "id": "f14da942f64b2f",
   "outputs": [],
   "execution_count": 81
  },
  {
   "metadata": {
    "ExecuteTime": {
     "end_time": "2024-12-04T12:49:51.507553Z",
     "start_time": "2024-12-04T12:49:51.502944Z"
    }
   },
   "cell_type": "code",
   "source": [
    "import re\n",
    "\n",
    "def process_line(line):\n",
    "    mul_s = re.findall(r\"mul\\((\\d+),(\\d+)\\)\", line)\n",
    "    return sum([int(mul[0])*int(mul[1]) for mul in mul_s])"
   ],
   "id": "5616698a84d5bdb1",
   "outputs": [],
   "execution_count": 82
  },
  {
   "metadata": {
    "ExecuteTime": {
     "end_time": "2024-12-04T12:49:55.886563Z",
     "start_time": "2024-12-04T12:49:55.880361Z"
    }
   },
   "cell_type": "code",
   "source": "process_line(line)",
   "id": "aafd4385aef612ff",
   "outputs": [
    {
     "data": {
      "text/plain": [
       "184576302"
      ]
     },
     "execution_count": 83,
     "metadata": {},
     "output_type": "execute_result"
    }
   ],
   "execution_count": 83
  },
  {
   "metadata": {
    "ExecuteTime": {
     "end_time": "2024-12-04T12:50:02.164600Z",
     "start_time": "2024-12-04T12:50:02.159262Z"
    }
   },
   "cell_type": "code",
   "source": [
    "enabled = True\n",
    "total = 0\n",
    "prev_start = 0\n",
    "\n",
    "while True:\n",
    "    if enabled:\n",
    "        next_dont = re.search(r\"don't\\(\\)\", line[prev_start:])\n",
    "        if next_dont:\n",
    "            start = next_dont.start() + prev_start\n",
    "            total += process_line(line[prev_start:start])\n",
    "            prev_start = start + 1\n",
    "            enabled = False\n",
    "        else:\n",
    "            total += process_line(line[prev_start:])\n",
    "            break\n",
    "    else:\n",
    "        next_do = re.search(r\"do\\(\\)\", line[prev_start:])\n",
    "        if next_do:\n",
    "            start = next_do.start() + prev_start\n",
    "            prev_start = start + 1\n",
    "            enabled = True\n",
    "        else:\n",
    "            break\n",
    "\n"
   ],
   "id": "4fbd5f8f5a1f25f2",
   "outputs": [],
   "execution_count": 84
  },
  {
   "metadata": {
    "ExecuteTime": {
     "end_time": "2024-12-04T12:50:03.310858Z",
     "start_time": "2024-12-04T12:50:03.305988Z"
    }
   },
   "cell_type": "code",
   "source": "total",
   "id": "d234979db3ccbc69",
   "outputs": [
    {
     "data": {
      "text/plain": [
       "118173507"
      ]
     },
     "execution_count": 85,
     "metadata": {},
     "output_type": "execute_result"
    }
   ],
   "execution_count": 85
  },
  {
   "metadata": {},
   "cell_type": "code",
   "outputs": [],
   "execution_count": null,
   "source": "",
   "id": "e23bc9a1ab6fcce5"
  }
 ],
 "metadata": {
  "kernelspec": {
   "display_name": "Python 3",
   "language": "python",
   "name": "python3"
  },
  "language_info": {
   "codemirror_mode": {
    "name": "ipython",
    "version": 2
   },
   "file_extension": ".py",
   "mimetype": "text/x-python",
   "name": "python",
   "nbconvert_exporter": "python",
   "pygments_lexer": "ipython2",
   "version": "2.7.6"
  }
 },
 "nbformat": 4,
 "nbformat_minor": 5
}
