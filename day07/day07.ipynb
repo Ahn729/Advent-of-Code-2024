{
 "cells": [
  {
   "metadata": {
    "ExecuteTime": {
     "end_time": "2024-12-08T19:16:14.698009Z",
     "start_time": "2024-12-08T19:16:14.690018Z"
    }
   },
   "cell_type": "code",
   "source": [
    "with open(\"input.txt\") as f:\n",
    "    lines = [line.strip() for line in f.readlines()]"
   ],
   "id": "f00b0f9056328ecb",
   "outputs": [],
   "execution_count": 2
  },
  {
   "metadata": {
    "ExecuteTime": {
     "end_time": "2024-12-08T19:26:44.793625Z",
     "start_time": "2024-12-08T19:26:44.744339Z"
    }
   },
   "cell_type": "code",
   "source": [
    "from operator import mul, add\n",
    "import itertools\n",
    "try:\n",
    "    from tqdm import tqdm\n",
    "except ImportError:\n",
    "    tqdm = lambda x: x"
   ],
   "id": "49215dc055c36529",
   "outputs": [],
   "execution_count": 33
  },
  {
   "metadata": {
    "ExecuteTime": {
     "end_time": "2024-12-08T19:28:32.887731Z",
     "start_time": "2024-12-08T19:28:32.879730Z"
    }
   },
   "cell_type": "code",
   "source": [
    "def concat(left: int, right: int) -> int:\n",
    "    return int(str(left) + str(right))"
   ],
   "id": "2587911dd894fdff",
   "outputs": [],
   "execution_count": 38
  },
  {
   "metadata": {
    "ExecuteTime": {
     "end_time": "2024-12-08T19:28:40.606010Z",
     "start_time": "2024-12-08T19:28:40.595749Z"
    }
   },
   "cell_type": "code",
   "source": [
    "class Equation:\n",
    "    def __init__(self, equation: str):\n",
    "        test_value, numbers = equation.split(\":\")\n",
    "        self.test_value = int(test_value)\n",
    "        self.numbers = [int(number) for number in numbers.split()]\n",
    "\n",
    "    def __repr__(self):\n",
    "        return f\"{self.test_value}: {self.numbers}\"\n",
    "\n",
    "    def is_true_for_operators(self, operators: list) -> bool:\n",
    "        numbers = self.numbers.copy()\n",
    "        val = numbers.pop(0)\n",
    "        while numbers:\n",
    "            val = operators.pop(0)(val, numbers.pop(0))\n",
    "        return val == self.test_value\n",
    "\n",
    "    def can_be_made_true(self):\n",
    "        for ops in itertools.product([mul, add], repeat=len(self.numbers)-1):\n",
    "            if self.is_true_for_operators(list(ops)):\n",
    "                return True\n",
    "        return False\n",
    "\n",
    "    def can_be_made_true_with_concat(self):\n",
    "        for ops in itertools.product([mul, add, concat], repeat=len(self.numbers)-1):\n",
    "            if self.is_true_for_operators(list(ops)):\n",
    "                return True\n",
    "        return False\n"
   ],
   "id": "29c7c88333b4e1dd",
   "outputs": [],
   "execution_count": 39
  },
  {
   "metadata": {
    "ExecuteTime": {
     "end_time": "2024-12-08T19:28:41.763167Z",
     "start_time": "2024-12-08T19:28:41.752963Z"
    }
   },
   "cell_type": "code",
   "source": "equations = [Equation(line) for line in lines]",
   "id": "d6c5e3d2e9adcc5",
   "outputs": [],
   "execution_count": 40
  },
  {
   "metadata": {
    "ExecuteTime": {
     "end_time": "2024-12-08T19:28:43.215733Z",
     "start_time": "2024-12-08T19:28:42.577755Z"
    }
   },
   "cell_type": "code",
   "source": [
    "sum_true_values = 0\n",
    "\n",
    "for equation in tqdm(equations):\n",
    "    if equation.can_be_made_true():\n",
    "        sum_true_values += equation.test_value"
   ],
   "id": "ee66e2d39aca93c8",
   "outputs": [
    {
     "name": "stderr",
     "output_type": "stream",
     "text": [
      "100%|██████████| 850/850 [00:00<00:00, 1359.90it/s]\n"
     ]
    }
   ],
   "execution_count": 41
  },
  {
   "metadata": {
    "ExecuteTime": {
     "end_time": "2024-12-08T19:28:43.748556Z",
     "start_time": "2024-12-08T19:28:43.736597Z"
    }
   },
   "cell_type": "code",
   "source": "sum_true_values",
   "id": "9116ffefe39889a5",
   "outputs": [
    {
     "data": {
      "text/plain": [
       "7710205485870"
      ]
     },
     "execution_count": 42,
     "metadata": {},
     "output_type": "execute_result"
    }
   ],
   "execution_count": 42
  },
  {
   "metadata": {
    "ExecuteTime": {
     "end_time": "2024-12-08T19:29:34.299955Z",
     "start_time": "2024-12-08T19:28:57.035103Z"
    }
   },
   "cell_type": "code",
   "source": [
    "sum_true_values = 0\n",
    "\n",
    "for equation in tqdm(equations):\n",
    "    if equation.can_be_made_true_with_concat():\n",
    "        sum_true_values += equation.test_value"
   ],
   "id": "5b1eac8d3d1f39cf",
   "outputs": [
    {
     "name": "stderr",
     "output_type": "stream",
     "text": [
      "100%|██████████| 850/850 [00:37<00:00, 22.82it/s]\n"
     ]
    }
   ],
   "execution_count": 43
  },
  {
   "metadata": {
    "ExecuteTime": {
     "end_time": "2024-12-08T19:29:42.478829Z",
     "start_time": "2024-12-08T19:29:42.471074Z"
    }
   },
   "cell_type": "code",
   "source": "sum_true_values",
   "id": "26dabaccb020b5a5",
   "outputs": [
    {
     "data": {
      "text/plain": [
       "20928985450275"
      ]
     },
     "execution_count": 44,
     "metadata": {},
     "output_type": "execute_result"
    }
   ],
   "execution_count": 44
  },
  {
   "metadata": {},
   "cell_type": "code",
   "outputs": [],
   "execution_count": null,
   "source": "",
   "id": "d5c3fbb84b33dd51"
  }
 ],
 "metadata": {
  "kernelspec": {
   "display_name": "Python 3",
   "language": "python",
   "name": "python3"
  },
  "language_info": {
   "codemirror_mode": {
    "name": "ipython",
    "version": 2
   },
   "file_extension": ".py",
   "mimetype": "text/x-python",
   "name": "python",
   "nbconvert_exporter": "python",
   "pygments_lexer": "ipython2",
   "version": "2.7.6"
  }
 },
 "nbformat": 4,
 "nbformat_minor": 5
}
